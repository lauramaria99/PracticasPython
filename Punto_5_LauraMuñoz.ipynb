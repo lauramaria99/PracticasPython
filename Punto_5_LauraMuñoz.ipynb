{
  "nbformat": 4,
  "nbformat_minor": 0,
  "metadata": {
    "colab": {
      "name": "Punto_5_LauraMuñoz.ipynb",
      "provenance": [],
      "authorship_tag": "ABX9TyO5M/D1A2ce6L8MzjJtjWiB",
      "include_colab_link": true
    },
    "kernelspec": {
      "name": "python3",
      "display_name": "Python 3"
    }
  },
  "cells": [
    {
      "cell_type": "markdown",
      "metadata": {
        "id": "view-in-github",
        "colab_type": "text"
      },
      "source": [
        "<a href=\"https://colab.research.google.com/github/lauramaria99/PracticasPython/blob/main/Punto_5_LauraMu%C3%B1oz.ipynb\" target=\"_parent\"><img src=\"https://colab.research.google.com/assets/colab-badge.svg\" alt=\"Open In Colab\"/></a>"
      ]
    },
    {
      "cell_type": "code",
      "metadata": {
        "id": "Q6AZDy9YtPzZ"
      },
      "source": [
        "import matplotlib.pyplot as plt\n",
        "import numpy as np\n",
        "import warnings \n",
        "import scipy.io as sio;\n",
        "import scipy.signal as signal\n",
        "warnings.filterwarnings(\"ignore\") #Se ignoran las alertas para mejorar la visualización."
      ],
      "execution_count": null,
      "outputs": []
    },
    {
      "cell_type": "code",
      "metadata": {
        "colab": {
          "base_uri": "https://localhost:8080/"
        },
        "id": "7SVOhgXptRwu",
        "outputId": "be3c5f75-3951-46d1-8da7-4a645a9d6c09"
      },
      "source": [
        "x=[0,1,2,3,9,9,5,2,0,1,2,3,9,9,5,2];\n",
        "x=np.array(x);\n",
        "w=[0.08,0.25,0.64,0.95,0.95,0.64,0.25,0.08];\n",
        "w=np.array(w);\n",
        "x1=x[0:8]*w;\n",
        "print('El vector x1 es: ',x1);\n",
        "x2=x[8:17]*w;\n",
        "print('El vector x1 es: ',x2);\n",
        "s1=np.fft.fft(x1);\n",
        "print(s1);\n",
        "s2=np.fft.fft(x2);\n",
        "print(s2);\n",
        "mag=[];\n",
        "mag2=[];\n",
        "for i in range(0,len(s1)):\n",
        "\n",
        "  mg1=abs(s1[i])\n",
        "  mag.append(mg1)\n",
        "  p1=(np.power(np.array(mag),2))/8;\n",
        "\n",
        "  mg2=abs(s2[i])\n",
        "  mag2.append(mg2)\n",
        "  p2=(np.power(np.array(mag2),2))/8;\n",
        "\n",
        "print('El periodograma p1 es:',p1);\n",
        "print('El periodograma p2 es:',p2);\n",
        "\n",
        "sxx=(p1+p2)/2\n",
        "print('Periodograma de Welch: ',sxx);\n",
        "\n",
        "\n",
        "\n",
        "\n"
      ],
      "execution_count": null,
      "outputs": [
        {
          "output_type": "stream",
          "text": [
            "El vector x1 es:  [0.   0.25 1.28 2.85 8.55 5.76 1.25 0.16]\n",
            "El vector x1 es:  [0.   0.25 1.28 2.85 8.55 5.76 1.25 0.16]\n",
            "[ 20.1       +0.j         -14.34827561+1.96404112j\n",
            "   6.02      -3.j          -2.75172439+2.02404112j\n",
            "   2.06      +0.j          -2.75172439-2.02404112j\n",
            "   6.02      +3.j         -14.34827561-1.96404112j]\n",
            "[ 20.1       +0.j         -14.34827561+1.96404112j\n",
            "   6.02      -3.j          -2.75172439+2.02404112j\n",
            "   2.06      +0.j          -2.75172439-2.02404112j\n",
            "   6.02      +3.j         -14.34827561-1.96404112j]\n",
            "El periodograma p1 es: [50.50125   26.2163088  5.65505    1.4585912  0.53045    1.4585912\n",
            "  5.65505   26.2163088]\n",
            "El periodograma p2 es: [50.50125   26.2163088  5.65505    1.4585912  0.53045    1.4585912\n",
            "  5.65505   26.2163088]\n",
            "Periodograma de Welch:  [50.50125   26.2163088  5.65505    1.4585912  0.53045    1.4585912\n",
            "  5.65505   26.2163088]\n"
          ],
          "name": "stdout"
        }
      ]
    }
  ]
}